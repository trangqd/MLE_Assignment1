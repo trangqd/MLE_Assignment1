{
 "cells": [
  {
   "cell_type": "code",
   "execution_count": 1,
   "id": "90a16b08-39cb-408d-8368-6879e24be4c0",
   "metadata": {},
   "outputs": [
    {
     "name": "stdout",
     "output_type": "stream",
     "text": [
      "Deleted: data_mart/gold/feature_store/gold_test.csv\n",
      "Deleted: data_mart/gold/feature_store/gold_test_2025-01.csv\n",
      "Deleted: data_mart/gold/feature_store/gold_test_2025-02.csv\n",
      "Deleted: data_mart/gold/feature_store/gold_test_2025-03.csv\n",
      "Deleted: data_mart/gold/feature_store/gold_test_2025-04.csv\n",
      "Deleted: data_mart/gold/feature_store/gold_test_2025-05.csv\n",
      "Deleted: data_mart/gold/feature_store/gold_test_2025-06.csv\n",
      "Deleted: data_mart/gold/feature_store/gold_test_2025-07.csv\n",
      "Deleted: data_mart/gold/feature_store/gold_test_2025-08.csv\n",
      "Deleted: data_mart/gold/feature_store/gold_test_2025-09.csv\n",
      "Deleted: data_mart/gold/feature_store/gold_test_2025-10.csv\n",
      "Deleted: data_mart/gold/feature_store/gold_test_2025-11.csv\n",
      "Deleted: data_mart/gold/feature_store/gold_train.csv\n",
      "Deleted: data_mart/gold/feature_store/gold_train_2023-01.csv\n",
      "Deleted: data_mart/gold/feature_store/gold_train_2023-02.csv\n",
      "Deleted: data_mart/gold/feature_store/gold_train_2023-03.csv\n",
      "Deleted: data_mart/gold/feature_store/gold_train_2023-04.csv\n",
      "Deleted: data_mart/gold/feature_store/gold_train_2023-05.csv\n",
      "Deleted: data_mart/gold/feature_store/gold_train_2023-06.csv\n",
      "Deleted: data_mart/gold/feature_store/gold_train_2023-07.csv\n",
      "Deleted: data_mart/gold/feature_store/gold_train_2023-08.csv\n",
      "Deleted: data_mart/gold/feature_store/gold_train_2023-09.csv\n",
      "Deleted: data_mart/gold/feature_store/gold_train_2023-10.csv\n",
      "Deleted: data_mart/gold/feature_store/gold_train_2023-11.csv\n",
      "Deleted: data_mart/gold/feature_store/gold_train_2023-12.csv\n",
      "Deleted: data_mart/gold/feature_store/gold_train_2024-01.csv\n",
      "Deleted: data_mart/gold/feature_store/gold_train_2024-02.csv\n",
      "Deleted: data_mart/gold/feature_store/gold_train_2024-03.csv\n",
      "Deleted: data_mart/gold/feature_store/gold_train_2024-04.csv\n",
      "Deleted: data_mart/gold/feature_store/gold_train_2024-05.csv\n",
      "Deleted: data_mart/gold/feature_store/gold_train_2024-06.csv\n",
      "Deleted: data_mart/gold/feature_store/gold_train_2024-07.csv\n",
      "Deleted: data_mart/gold/feature_store/gold_train_2024-08.csv\n",
      "Deleted: data_mart/gold/feature_store/gold_train_2024-09.csv\n",
      "Deleted: data_mart/gold/feature_store/gold_train_2024-10.csv\n",
      "Deleted: data_mart/gold/feature_store/gold_train_2024-11.csv\n",
      "Deleted: data_mart/gold/feature_store/gold_train_2024-12.csv\n",
      "Deleted: data_mart/gold/feature_store/.ipynb_checkpoints/gold_test-checkpoint.csv\n",
      "Deleted: data_mart/gold/feature_store/.ipynb_checkpoints/gold_train-checkpoint.csv\n"
     ]
    }
   ],
   "source": [
    "from pathlib import Path\n",
    "\n",
    "feature_store_dir = Path(\"data_mart/gold/feature_store\")\n",
    "\n",
    "for file in feature_store_dir.rglob(\"*\"):\n",
    "    if file.is_file():\n",
    "        file.unlink()\n",
    "        print(f\"Deleted: {file}\")"
   ]
  },
  {
   "cell_type": "code",
   "execution_count": null,
   "id": "e923efdf-1886-4cde-99b5-7cd6477aacbf",
   "metadata": {},
   "outputs": [],
   "source": []
  }
 ],
 "metadata": {
  "kernelspec": {
   "display_name": "Python 3 (ipykernel)",
   "language": "python",
   "name": "python3"
  },
  "language_info": {
   "codemirror_mode": {
    "name": "ipython",
    "version": 3
   },
   "file_extension": ".py",
   "mimetype": "text/x-python",
   "name": "python",
   "nbconvert_exporter": "python",
   "pygments_lexer": "ipython3",
   "version": "3.12.10"
  }
 },
 "nbformat": 4,
 "nbformat_minor": 5
}
